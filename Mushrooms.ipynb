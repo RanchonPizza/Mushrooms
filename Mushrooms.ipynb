{
 "cells": [
  {
   "cell_type": "markdown",
   "id": "e1405a36",
   "metadata": {},
   "source": [
    "# Introduction"
   ]
  },
  {
   "cell_type": "markdown",
   "id": "633f5440",
   "metadata": {},
   "source": [
    "This project will be looking at mushroom data donated to the UCI machine learning repository.\n",
    "\n",
    "Mushroom. (1987). UCI Machine Learning Repository. https://doi.org/10.24432/C5959T."
   ]
  },
  {
   "cell_type": "markdown",
   "id": "85ae22e7",
   "metadata": {},
   "source": [
    "This project will analyze, visualize, and clean the data to help get a better understanding about the data. Afterwards the data will be prepared for a machine learning model to answer a question. "
   ]
  },
  {
   "cell_type": "markdown",
   "id": "762cdd96",
   "metadata": {},
   "source": [
    "## Project goals"
   ]
  },
  {
   "cell_type": "markdown",
   "id": "c8782aa0",
   "metadata": {},
   "source": [
    "The goal of this project is to determine, given the physical characteristics of a mushroom, whether a mushroom is edible or poisonous. Unfortunately, there is no simple rule in determining if a mushroom is edible or not and without pior knowledge of mushrooms, it would be difficult for one to make an accurate decision.\n",
    "\n",
    "So, with the physical characteristics of a mushroom, is it possible to determine if it is edible or poisonous?  "
   ]
  },
  {
   "cell_type": "markdown",
   "id": "d9669617",
   "metadata": {},
   "source": [
    "## Data"
   ]
  },
  {
   "cell_type": "markdown",
   "id": "7b1e44a5",
   "metadata": {},
   "source": [
    "This project is using one dataset, \"agaricus-lepiota.data\", which consists of samples of 23 gilled mushroom species belonging to the Agaricus and Lepiota families.\n",
    "\n",
    "In this project, data visualization will be used to help familiarize and understand each variable in the dataset. The data will be cleaned and prepped for a model. This project will be using the support vector machine model. The model will be evauluated on accuracy, precision, recall, and f1 score.  "
   ]
  },
  {
   "cell_type": "code",
   "execution_count": 1,
   "id": "29015910",
   "metadata": {},
   "outputs": [],
   "source": [
    "import pandas as pd\n",
    "import numpy as np\n",
    "from matplotlib import pyplot as plt\n",
    "import seaborn as sns"
   ]
  },
  {
   "cell_type": "markdown",
   "id": "137a6c54",
   "metadata": {},
   "source": [
    "## Exploring the data"
   ]
  },
  {
   "cell_type": "markdown",
   "id": "4b3cba2e",
   "metadata": {},
   "source": [
    "Loading in the data and converted the file to a CSV so it could be loading in a DataFrame called \"mushrooms\". Viewing the first five rows, it shows the columns and their values are simplified to just letters, making it hard to understand what the data is telling us. "
   ]
  },
  {
   "cell_type": "code",
   "execution_count": 2,
   "id": "b77fce21",
   "metadata": {
    "scrolled": false
   },
   "outputs": [
    {
     "data": {
      "text/html": [
       "<div>\n",
       "<style scoped>\n",
       "    .dataframe tbody tr th:only-of-type {\n",
       "        vertical-align: middle;\n",
       "    }\n",
       "\n",
       "    .dataframe tbody tr th {\n",
       "        vertical-align: top;\n",
       "    }\n",
       "\n",
       "    .dataframe thead th {\n",
       "        text-align: right;\n",
       "    }\n",
       "</style>\n",
       "<table border=\"1\" class=\"dataframe\">\n",
       "  <thead>\n",
       "    <tr style=\"text-align: right;\">\n",
       "      <th></th>\n",
       "      <th>p</th>\n",
       "      <th>x</th>\n",
       "      <th>s</th>\n",
       "      <th>n</th>\n",
       "      <th>t</th>\n",
       "      <th>p.1</th>\n",
       "      <th>f</th>\n",
       "      <th>c</th>\n",
       "      <th>n.1</th>\n",
       "      <th>k</th>\n",
       "      <th>...</th>\n",
       "      <th>s.2</th>\n",
       "      <th>w</th>\n",
       "      <th>w.1</th>\n",
       "      <th>p.2</th>\n",
       "      <th>w.2</th>\n",
       "      <th>o</th>\n",
       "      <th>p.3</th>\n",
       "      <th>k.1</th>\n",
       "      <th>s.3</th>\n",
       "      <th>u</th>\n",
       "    </tr>\n",
       "  </thead>\n",
       "  <tbody>\n",
       "    <tr>\n",
       "      <th>0</th>\n",
       "      <td>e</td>\n",
       "      <td>x</td>\n",
       "      <td>s</td>\n",
       "      <td>y</td>\n",
       "      <td>t</td>\n",
       "      <td>a</td>\n",
       "      <td>f</td>\n",
       "      <td>c</td>\n",
       "      <td>b</td>\n",
       "      <td>k</td>\n",
       "      <td>...</td>\n",
       "      <td>s</td>\n",
       "      <td>w</td>\n",
       "      <td>w</td>\n",
       "      <td>p</td>\n",
       "      <td>w</td>\n",
       "      <td>o</td>\n",
       "      <td>p</td>\n",
       "      <td>n</td>\n",
       "      <td>n</td>\n",
       "      <td>g</td>\n",
       "    </tr>\n",
       "    <tr>\n",
       "      <th>1</th>\n",
       "      <td>e</td>\n",
       "      <td>b</td>\n",
       "      <td>s</td>\n",
       "      <td>w</td>\n",
       "      <td>t</td>\n",
       "      <td>l</td>\n",
       "      <td>f</td>\n",
       "      <td>c</td>\n",
       "      <td>b</td>\n",
       "      <td>n</td>\n",
       "      <td>...</td>\n",
       "      <td>s</td>\n",
       "      <td>w</td>\n",
       "      <td>w</td>\n",
       "      <td>p</td>\n",
       "      <td>w</td>\n",
       "      <td>o</td>\n",
       "      <td>p</td>\n",
       "      <td>n</td>\n",
       "      <td>n</td>\n",
       "      <td>m</td>\n",
       "    </tr>\n",
       "    <tr>\n",
       "      <th>2</th>\n",
       "      <td>p</td>\n",
       "      <td>x</td>\n",
       "      <td>y</td>\n",
       "      <td>w</td>\n",
       "      <td>t</td>\n",
       "      <td>p</td>\n",
       "      <td>f</td>\n",
       "      <td>c</td>\n",
       "      <td>n</td>\n",
       "      <td>n</td>\n",
       "      <td>...</td>\n",
       "      <td>s</td>\n",
       "      <td>w</td>\n",
       "      <td>w</td>\n",
       "      <td>p</td>\n",
       "      <td>w</td>\n",
       "      <td>o</td>\n",
       "      <td>p</td>\n",
       "      <td>k</td>\n",
       "      <td>s</td>\n",
       "      <td>u</td>\n",
       "    </tr>\n",
       "    <tr>\n",
       "      <th>3</th>\n",
       "      <td>e</td>\n",
       "      <td>x</td>\n",
       "      <td>s</td>\n",
       "      <td>g</td>\n",
       "      <td>f</td>\n",
       "      <td>n</td>\n",
       "      <td>f</td>\n",
       "      <td>w</td>\n",
       "      <td>b</td>\n",
       "      <td>k</td>\n",
       "      <td>...</td>\n",
       "      <td>s</td>\n",
       "      <td>w</td>\n",
       "      <td>w</td>\n",
       "      <td>p</td>\n",
       "      <td>w</td>\n",
       "      <td>o</td>\n",
       "      <td>e</td>\n",
       "      <td>n</td>\n",
       "      <td>a</td>\n",
       "      <td>g</td>\n",
       "    </tr>\n",
       "    <tr>\n",
       "      <th>4</th>\n",
       "      <td>e</td>\n",
       "      <td>x</td>\n",
       "      <td>y</td>\n",
       "      <td>y</td>\n",
       "      <td>t</td>\n",
       "      <td>a</td>\n",
       "      <td>f</td>\n",
       "      <td>c</td>\n",
       "      <td>b</td>\n",
       "      <td>n</td>\n",
       "      <td>...</td>\n",
       "      <td>s</td>\n",
       "      <td>w</td>\n",
       "      <td>w</td>\n",
       "      <td>p</td>\n",
       "      <td>w</td>\n",
       "      <td>o</td>\n",
       "      <td>p</td>\n",
       "      <td>k</td>\n",
       "      <td>n</td>\n",
       "      <td>g</td>\n",
       "    </tr>\n",
       "  </tbody>\n",
       "</table>\n",
       "<p>5 rows × 23 columns</p>\n",
       "</div>"
      ],
      "text/plain": [
       "   p  x  s  n  t p.1  f  c n.1  k  ... s.2  w w.1 p.2 w.2  o p.3 k.1 s.3  u\n",
       "0  e  x  s  y  t   a  f  c   b  k  ...   s  w   w   p   w  o   p   n   n  g\n",
       "1  e  b  s  w  t   l  f  c   b  n  ...   s  w   w   p   w  o   p   n   n  m\n",
       "2  p  x  y  w  t   p  f  c   n  n  ...   s  w   w   p   w  o   p   k   s  u\n",
       "3  e  x  s  g  f   n  f  w   b  k  ...   s  w   w   p   w  o   e   n   a  g\n",
       "4  e  x  y  y  t   a  f  c   b  n  ...   s  w   w   p   w  o   p   k   n  g\n",
       "\n",
       "[5 rows x 23 columns]"
      ]
     },
     "execution_count": 2,
     "metadata": {},
     "output_type": "execute_result"
    }
   ],
   "source": [
    "file_path = r'C:\\Users\\Cedric\\Downloads\\mushroom\\agaricus-lepiota.data'\n",
    "\n",
    "mushrooms = pd.read_csv(file_path, delimiter = ',')\n",
    "mushrooms.head()"
   ]
  },
  {
   "cell_type": "code",
   "execution_count": 3,
   "id": "7bdbe20d",
   "metadata": {
    "scrolled": false
   },
   "outputs": [
    {
     "data": {
      "text/plain": [
       "['p',\n",
       " 'x',\n",
       " 's',\n",
       " 'n',\n",
       " 't',\n",
       " 'p.1',\n",
       " 'f',\n",
       " 'c',\n",
       " 'n.1',\n",
       " 'k',\n",
       " 'e',\n",
       " 'e.1',\n",
       " 's.1',\n",
       " 's.2',\n",
       " 'w',\n",
       " 'w.1',\n",
       " 'p.2',\n",
       " 'w.2',\n",
       " 'o',\n",
       " 'p.3',\n",
       " 'k.1',\n",
       " 's.3',\n",
       " 'u']"
      ]
     },
     "execution_count": 3,
     "metadata": {},
     "output_type": "execute_result"
    }
   ],
   "source": [
    "list(mushrooms.columns)"
   ]
  },
  {
   "cell_type": "markdown",
   "id": "91c096de",
   "metadata": {},
   "source": [
    "Here the columns are renamed to help better understand what is being looked at. The values of each column will stay the same due to the fact that they are all categorical variables and will need to be transformed in order to be read by the model later on. The values will be discussed while looking at each of the variables. "
   ]
  },
  {
   "cell_type": "code",
   "execution_count": 4,
   "id": "019cde82",
   "metadata": {},
   "outputs": [],
   "source": [
    "mushrooms.columns = ['poisonous', 'cap_shape', 'cap_surface', 'cap_color', 'bruises', 'odor', 'gill_attachment',\n",
    "                    'gill_spacing', 'gill_size', 'gill_color', 'stalk_shape', 'stalk_root', 'stalk_surface_above_ring',\n",
    "                    'stalk_surface_below_ring', 'stalk_color_above_ring', 'stalk_color_below_ring', 'veil_type',\n",
    "                    'veil_color', 'ring_number', 'ring_type', 'spore_print_color', 'population', 'habitat']"
   ]
  },
  {
   "cell_type": "code",
   "execution_count": 5,
   "id": "0eefe74c",
   "metadata": {
    "scrolled": false
   },
   "outputs": [
    {
     "data": {
      "text/plain": [
       "['poisonous',\n",
       " 'cap_shape',\n",
       " 'cap_surface',\n",
       " 'cap_color',\n",
       " 'bruises',\n",
       " 'odor',\n",
       " 'gill_attachment',\n",
       " 'gill_spacing',\n",
       " 'gill_size',\n",
       " 'gill_color',\n",
       " 'stalk_shape',\n",
       " 'stalk_root',\n",
       " 'stalk_surface_above_ring',\n",
       " 'stalk_surface_below_ring',\n",
       " 'stalk_color_above_ring',\n",
       " 'stalk_color_below_ring',\n",
       " 'veil_type',\n",
       " 'veil_color',\n",
       " 'ring_number',\n",
       " 'ring_type',\n",
       " 'spore_print_color',\n",
       " 'population',\n",
       " 'habitat']"
      ]
     },
     "execution_count": 5,
     "metadata": {},
     "output_type": "execute_result"
    }
   ],
   "source": [
    "list(mushrooms.columns)"
   ]
  },
  {
   "cell_type": "markdown",
   "id": "0cd88bda",
   "metadata": {},
   "source": [
    "### Poisonous"
   ]
  },
  {
   "cell_type": "markdown",
   "id": "c4b12049",
   "metadata": {},
   "source": [
    "- e = edible\n",
    "- p = poisonous"
   ]
  },
  {
   "cell_type": "markdown",
   "id": "0bca6bd5",
   "metadata": {},
   "source": [
    "Count of edible and poisonous mushrooms. ~4200 edible mushrooms and ~3900 poisonous mushrooms."
   ]
  },
  {
   "cell_type": "code",
   "execution_count": 6,
   "id": "f1ab3747",
   "metadata": {
    "scrolled": false
   },
   "outputs": [
    {
     "data": {
      "image/png": "[encoded data removed]",
      "text/plain": [
       "<Figure size 640x480 with 1 Axes>"
      ]
     },
     "metadata": {},
     "output_type": "display_data"
    }
   ],
   "source": [
    "sns.countplot(data = mushrooms, y = 'poisonous');"
   ]
  },
  {
   "cell_type": "markdown",
   "id": "afe79505",
   "metadata": {},
   "source": [
    "### Cap shape"
   ]
  },
  {
   "cell_type": "markdown",
   "id": "6b4c23a2",
   "metadata": {},
   "source": [
    "- x = convex\n",
    "- b = bell\n",
    "- s = sunken\n",
    "- f = flat\n",
    "- k = knobbed\n",
    "- c = conical"
   ]
  },
  {
   "cell_type": "markdown",
   "id": "c9182955",
   "metadata": {},
   "source": [
    "The different shapes of the caps on mushrooms. It appears convex and flat shaped mushroom caps are most common, while conical and sunken shaped are not so common with only 36 mushrooms between them."
   ]
  },
  {
   "cell_type": "code",
   "execution_count": 7,
   "id": "75143063",
   "metadata": {},
   "outputs": [
    {
     "data": {
      "text/plain": [
       "x    3655\n",
       "f    3152\n",
       "k     828\n",
       "b     452\n",
       "s      32\n",
       "c       4\n",
       "Name: cap_shape, dtype: int64"
      ]
     },
     "execution_count": 7,
     "metadata": {},
     "output_type": "execute_result"
    }
   ],
   "source": [
    "mushrooms.cap_shape.value_counts()"
   ]
  },
  {
   "cell_type": "code",
   "execution_count": 8,
   "id": "425744db",
   "metadata": {
    "scrolled": false
   },
   "outputs": [
    {
     "data": {
      "image/png": "[encoded data removed]",
      "text/plain": [
       "<Figure size 640x480 with 1 Axes>"
      ]
     },
     "metadata": {},
     "output_type": "display_data"
    }
   ],
   "source": [
    "sns.countplot(data = mushrooms, y = 'cap_shape');"
   ]
  },
  {
   "cell_type": "markdown",
   "id": "4e22ae81",
   "metadata": {},
   "source": [
    "### Cap surface"
   ]
  },
  {
   "cell_type": "markdown",
   "id": "f62b431a",
   "metadata": {},
   "source": [
    "- s = smooth\n",
    "- y = scaly\n",
    "- f = fibrous\n",
    "- g = grooves"
   ]
  },
  {
   "cell_type": "markdown",
   "id": "b56c455f",
   "metadata": {},
   "source": [
    "Description of cap surfaces. Most mushrooms in this dataset either have a scaly, smooth, or fibrous surface. Very little have grooves."
   ]
  },
  {
   "cell_type": "code",
   "execution_count": 9,
   "id": "2bd89d95",
   "metadata": {},
   "outputs": [
    {
     "data": {
      "text/plain": [
       "y    3244\n",
       "s    2555\n",
       "f    2320\n",
       "g       4\n",
       "Name: cap_surface, dtype: int64"
      ]
     },
     "execution_count": 9,
     "metadata": {},
     "output_type": "execute_result"
    }
   ],
   "source": [
    "mushrooms.cap_surface.value_counts()"
   ]
  },
  {
   "cell_type": "code",
   "execution_count": 10,
   "id": "eb3aafe9",
   "metadata": {
    "scrolled": false
   },
   "outputs": [
    {
     "data": {
      "image/png": "[encoded data removed]",
      "text/plain": [
       "<Figure size 640x480 with 1 Axes>"
      ]
     },
     "metadata": {},
     "output_type": "display_data"
    }
   ],
   "source": [
    "sns.countplot(data = mushrooms, y = 'cap_surface');"
   ]
  },
  {
   "cell_type": "markdown",
   "id": "4574d57a",
   "metadata": {},
   "source": [
    "### Cap color"
   ]
  },
  {
   "cell_type": "markdown",
   "id": "b2db8afa",
   "metadata": {},
   "source": [
    "- y = yellow\n",
    "- w = white\n",
    "- g = gray\n",
    "- n = brown\n",
    "- e = red\n",
    "- p = pink\n",
    "- b = buff\n",
    "- u = purple\n",
    "- c = cinnamon\n",
    "- r = green"
   ]
  },
  {
   "cell_type": "markdown",
   "id": "d090a3b4",
   "metadata": {},
   "source": [
    "A graph of the different colors of mushroom caps. It appears most mushrooms are brown, gray, or red."
   ]
  },
  {
   "cell_type": "code",
   "execution_count": 11,
   "id": "73d06442",
   "metadata": {
    "scrolled": false
   },
   "outputs": [
    {
     "data": {
      "image/png": "[encoded data removed]",
      "text/plain": [
       "<Figure size 640x480 with 1 Axes>"
      ]
     },
     "metadata": {},
     "output_type": "display_data"
    }
   ],
   "source": [
    "sns.countplot(data = mushrooms, y = 'cap_color');"
   ]
  },
  {
   "cell_type": "markdown",
   "id": "f100a217",
   "metadata": {},
   "source": [
    "Here is the same graph, but put against the poisonous variable. It seems there are more mushrooms with brown, gray, or white caps that are edible rather than poisonous and there are more mushrooms with red, yellow, pink, or buff caps that are poisonous rather than edible. Purple and green caps showing only edible with very little samples. This shows there is no simple rule in determining a mushrooms edibility."
   ]
  },
  {
   "cell_type": "code",
   "execution_count": 12,
   "id": "7ee96597",
   "metadata": {},
   "outputs": [
    {
     "data": {
      "image/png": "[encoded data removed]",
      "text/plain": [
       "<Figure size 640x480 with 1 Axes>"
      ]
     },
     "metadata": {},
     "output_type": "display_data"
    }
   ],
   "source": [
    "sns.countplot(data = mushrooms, y = 'cap_color', hue = 'poisonous');"
   ]
  },
  {
   "cell_type": "markdown",
   "id": "d05b787c",
   "metadata": {},
   "source": [
    "Count of cap color vs poisonous."
   ]
  },
  {
   "cell_type": "code",
   "execution_count": 13,
   "id": "5ed4aa78",
   "metadata": {},
   "outputs": [
    {
     "data": {
      "text/plain": [
       "cap_color  poisonous\n",
       "b          p             120\n",
       "           e              48\n",
       "c          e              32\n",
       "           p              12\n",
       "e          p             876\n",
       "           e             624\n",
       "g          e            1032\n",
       "           p             808\n",
       "n          e            1264\n",
       "           p            1019\n",
       "p          p              88\n",
       "           e              56\n",
       "r          e              16\n",
       "u          e              16\n",
       "w          e             720\n",
       "           p             320\n",
       "y          p             672\n",
       "           e             400\n",
       "Name: poisonous, dtype: int64"
      ]
     },
     "execution_count": 13,
     "metadata": {},
     "output_type": "execute_result"
    }
   ],
   "source": [
    "mushrooms.groupby('cap_color').poisonous.value_counts()"
   ]
  },
  {
   "cell_type": "markdown",
   "id": "0c71a50e",
   "metadata": {},
   "source": [
    "### Bruises"
   ]
  },
  {
   "cell_type": "markdown",
   "id": "f560a426",
   "metadata": {},
   "source": [
    "- t = bruises\n",
    "- f = no bruises"
   ]
  },
  {
   "cell_type": "markdown",
   "id": "016f3739",
   "metadata": {},
   "source": [
    "It appears ~3300 mushrooms have bruises and ~4700 mushrooms do not."
   ]
  },
  {
   "cell_type": "code",
   "execution_count": 14,
   "id": "e4d34850",
   "metadata": {},
   "outputs": [
    {
     "data": {
      "image/png": "[encoded data removed]",
      "text/plain": [
       "<Figure size 640x480 with 1 Axes>"
      ]
     },
     "metadata": {},
     "output_type": "display_data"
    }
   ],
   "source": [
    "sns.countplot(data = mushrooms, y = 'bruises');"
   ]
  },
  {
   "cell_type": "markdown",
   "id": "5e690d0b",
   "metadata": {},
   "source": [
    "### Odor"
   ]
  },
  {
   "cell_type": "markdown",
   "id": "3b618093",
   "metadata": {},
   "source": [
    "- a = almond\n",
    "- i = anise\n",
    "- p = pungent\n",
    "- n = none\n",
    "- f = foul\n",
    "- c = creosote\n",
    "- y = fishy\n",
    "- s = spicy\n",
    "- m = musty"
   ]
  },
  {
   "cell_type": "markdown",
   "id": "3089cf6b",
   "metadata": {},
   "source": [
    "A graph of the different odors of mushrooms. Most mushrooms in this dataset either don't have an odor or has a foul odor."
   ]
  },
  {
   "cell_type": "code",
   "execution_count": 15,
   "id": "fdb564f7",
   "metadata": {
    "scrolled": false
   },
   "outputs": [
    {
     "data": {
      "image/png": "[encoded data removed]",
      "text/plain": [
       "<Figure size 640x480 with 1 Axes>"
      ]
     },
     "metadata": {},
     "output_type": "display_data"
    }
   ],
   "source": [
    "sns.countplot(data = mushrooms, y = 'odor');"
   ]
  },
  {
   "cell_type": "markdown",
   "id": "645dc3b7",
   "metadata": {},
   "source": [
    "Below is the same graph, but like with the cap colors, it's put against the poisonous variable. It shows very clearly which odors are connected to edible or poisonous mushrooms. Looks like the odor \"none\" is the only odor showing having edible and poisonous mushrooms with the majority of the mushrooms being edible. \n",
    "\n",
    "This is a very important factor to consider when determining edibility! "
   ]
  },
  {
   "cell_type": "code",
   "execution_count": 16,
   "id": "d02c1e25",
   "metadata": {},
   "outputs": [
    {
     "data": {
      "image/png": "[encoded data removed]",
      "text/plain": [
       "<Figure size 640x480 with 1 Axes>"
      ]
     },
     "metadata": {},
     "output_type": "display_data"
    }
   ],
   "source": [
    "sns.countplot(data = mushrooms, y = 'odor', hue = 'poisonous');"
   ]
  },
  {
   "cell_type": "markdown",
   "id": "2e5f90d5",
   "metadata": {},
   "source": [
    "Count of odor vs poisonous."
   ]
  },
  {
   "cell_type": "code",
   "execution_count": 17,
   "id": "70488e4c",
   "metadata": {
    "scrolled": false
   },
   "outputs": [
    {
     "name": "stdout",
     "output_type": "stream",
     "text": [
      "odor  poisonous\n",
      "a     e             400\n",
      "c     p             192\n",
      "f     p            2160\n",
      "l     e             400\n",
      "m     p              36\n",
      "n     e            3408\n",
      "      p             120\n",
      "p     p             255\n",
      "s     p             576\n",
      "y     p             576\n",
      "Name: poisonous, dtype: int64\n"
     ]
    }
   ],
   "source": [
    "print(mushrooms.groupby('odor').poisonous.value_counts())"
   ]
  },
  {
   "cell_type": "markdown",
   "id": "5f56616f",
   "metadata": {},
   "source": [
    "### Gill attachment"
   ]
  },
  {
   "cell_type": "markdown",
   "id": "2a723378",
   "metadata": {},
   "source": [
    "- f = free\n",
    "- a = attached"
   ]
  },
  {
   "cell_type": "markdown",
   "id": "43f3e2ff",
   "metadata": {},
   "source": [
    "Most of the mushrooms in the dataset have free gill attachment."
   ]
  },
  {
   "cell_type": "code",
   "execution_count": 18,
   "id": "9ebd05d0",
   "metadata": {},
   "outputs": [
    {
     "data": {
      "image/png": "[encoded data removed]",
      "text/plain": [
       "<Figure size 640x480 with 1 Axes>"
      ]
     },
     "metadata": {},
     "output_type": "display_data"
    }
   ],
   "source": [
    "sns.countplot(data = mushrooms, y = 'gill_attachment');"
   ]
  },
  {
   "cell_type": "markdown",
   "id": "e8563762",
   "metadata": {},
   "source": [
    "### Gill spacing"
   ]
  },
  {
   "cell_type": "markdown",
   "id": "2cbeb81c",
   "metadata": {},
   "source": [
    "- c = close\n",
    "- w = crowded"
   ]
  },
  {
   "cell_type": "markdown",
   "id": "d66bf98b",
   "metadata": {},
   "source": [
    "Most mushrooms have closed gill spacing."
   ]
  },
  {
   "cell_type": "code",
   "execution_count": 19,
   "id": "6da46306",
   "metadata": {},
   "outputs": [
    {
     "data": {
      "image/png": "[encoded data removed]",
      "text/plain": [
       "<Figure size 640x480 with 1 Axes>"
      ]
     },
     "metadata": {},
     "output_type": "display_data"
    }
   ],
   "source": [
    "sns.countplot(data = mushrooms, y = 'gill_spacing');"
   ]
  },
  {
   "cell_type": "markdown",
   "id": "be58291c",
   "metadata": {},
   "source": [
    "### Gill size"
   ]
  },
  {
   "cell_type": "markdown",
   "id": "611294a9",
   "metadata": {},
   "source": [
    "- b = broad\n",
    "- n = narrow"
   ]
  },
  {
   "cell_type": "markdown",
   "id": "98b94872",
   "metadata": {},
   "source": [
    "It appears most mushrooms gill sizes are broad."
   ]
  },
  {
   "cell_type": "code",
   "execution_count": 20,
   "id": "816e9dcc",
   "metadata": {},
   "outputs": [
    {
     "data": {
      "image/png": "[encoded data removed]",
      "text/plain": [
       "<Figure size 640x480 with 1 Axes>"
      ]
     },
     "metadata": {},
     "output_type": "display_data"
    }
   ],
   "source": [
    "sns.countplot(data = mushrooms, y = 'gill_size');"
   ]
  },
  {
   "cell_type": "markdown",
   "id": "c7e860b7",
   "metadata": {},
   "source": [
    "### Gill color"
   ]
  },
  {
   "cell_type": "markdown",
   "id": "be095a1e",
   "metadata": {},
   "source": [
    "- k = black\n",
    "- n = brown\n",
    "- g = gray\n",
    "- p = pink\n",
    "- w = white\n",
    "- h = chocolate\n",
    "- u = purple\n",
    "- e = red\n",
    "- b = buff\n",
    "- r = green\n",
    "- y = yellow\n",
    "- o = orange"
   ]
  },
  {
   "cell_type": "markdown",
   "id": "b1eb437b",
   "metadata": {},
   "source": [
    "A graph of the different gill colors. The most common colors being buff, pink, white, and brown."
   ]
  },
  {
   "cell_type": "code",
   "execution_count": 21,
   "id": "7945d29d",
   "metadata": {},
   "outputs": [
    {
     "data": {
      "image/png": "[encoded data removed]",
      "text/plain": [
       "<Figure size 640x480 with 1 Axes>"
      ]
     },
     "metadata": {},
     "output_type": "display_data"
    }
   ],
   "source": [
    "sns.countplot(data = mushrooms, y = 'gill_color');"
   ]
  },
  {
   "cell_type": "markdown",
   "id": "8c12cd27",
   "metadata": {},
   "source": [
    "The same graph put against poisonous. Most of the colors seem mixed between edible and poisonous except for a few. Buff color gills have 1728 mushrooms that are only poisonous! Red and orange gills have only edible but not as many samples. Green gills show only poisonous with very little samples."
   ]
  },
  {
   "cell_type": "code",
   "execution_count": 22,
   "id": "cca9dc9b",
   "metadata": {},
   "outputs": [
    {
     "data": {
      "image/png": "[encoded data removed]",
      "text/plain": [
       "<Figure size 640x480 with 1 Axes>"
      ]
     },
     "metadata": {},
     "output_type": "display_data"
    }
   ],
   "source": [
    "sns.countplot(data = mushrooms, y = 'gill_color', hue = 'poisonous');"
   ]
  },
  {
   "cell_type": "markdown",
   "id": "6f45856c",
   "metadata": {},
   "source": [
    "Count of gill color vs poisonous."
   ]
  },
  {
   "cell_type": "code",
   "execution_count": 23,
   "id": "2268e9ac",
   "metadata": {},
   "outputs": [
    {
     "data": {
      "text/plain": [
       "gill_color  poisonous\n",
       "b           p            1728\n",
       "e           e              96\n",
       "g           p             504\n",
       "            e             248\n",
       "h           p             528\n",
       "            e             204\n",
       "k           e             344\n",
       "            p              63\n",
       "n           e             936\n",
       "            p             112\n",
       "o           e              64\n",
       "p           e             852\n",
       "            p             640\n",
       "r           p              24\n",
       "u           e             444\n",
       "            p              48\n",
       "w           e             956\n",
       "            p             246\n",
       "y           e              64\n",
       "            p              22\n",
       "Name: poisonous, dtype: int64"
      ]
     },
     "execution_count": 23,
     "metadata": {},
     "output_type": "execute_result"
    }
   ],
   "source": [
    "mushrooms.groupby('gill_color').poisonous.value_counts()"
   ]
  },
  {
   "cell_type": "markdown",
   "id": "87c0b5d2",
   "metadata": {},
   "source": [
    "### Stalk shape"
   ]
  },
  {
   "cell_type": "markdown",
   "id": "8b1fc72d",
   "metadata": {},
   "source": [
    "- e = enlarging\n",
    "- t = tapering"
   ]
  },
  {
   "cell_type": "markdown",
   "id": "2bab6999",
   "metadata": {},
   "source": [
    "Stalk shape of mushrooms. majority having a tapering shape. "
   ]
  },
  {
   "cell_type": "code",
   "execution_count": 24,
   "id": "7867b550",
   "metadata": {},
   "outputs": [
    {
     "data": {
      "image/png": "[encoded data removed]",
      "text/plain": [
       "<Figure size 640x480 with 1 Axes>"
      ]
     },
     "metadata": {},
     "output_type": "display_data"
    }
   ],
   "source": [
    "sns.countplot(data = mushrooms, y = 'stalk_shape');"
   ]
  },
  {
   "cell_type": "markdown",
   "id": "80c48523",
   "metadata": {},
   "source": [
    "### Stalk root"
   ]
  },
  {
   "cell_type": "markdown",
   "id": "a1861a8a",
   "metadata": {},
   "source": [
    "- c = club\n",
    "- e = equal\n",
    "- b = bulbous\n",
    "- r = rooted\n",
    "- ? = missing"
   ]
  },
  {
   "cell_type": "markdown",
   "id": "eea2f5bc",
   "metadata": {},
   "source": [
    "The different stalk root shapes. The majority of mushrooms have balbous roots. \n",
    "\n",
    "This graph also reveals that there is missing data. ~2500 mushrooms in the dataset are missing stalk root data. The other file provided with the dataset shows there are six stalk characteristics for identifying mushrooms: clubed shape, equal, bulbous, rooted, with cup , and rhizomorphs. This dataset shows entries for four out of the six characteristics. There is no way to know for sure what the missing data could be and the rows with the missing data can't be dropped, that would remove ~30% of the dataset. The only way to deal with this would be to drop the column containing stalk root data entirely. "
   ]
  },
  {
   "cell_type": "code",
   "execution_count": 25,
   "id": "cee05952",
   "metadata": {},
   "outputs": [
    {
     "data": {
      "image/png": "[encoded data removed]",
      "text/plain": [
       "<Figure size 640x480 with 1 Axes>"
      ]
     },
     "metadata": {},
     "output_type": "display_data"
    }
   ],
   "source": [
    "sns.countplot(data = mushrooms, y = 'stalk_root');"
   ]
  },
  {
   "cell_type": "markdown",
   "id": "66a900a2",
   "metadata": {},
   "source": [
    "### Stalk surface above ring"
   ]
  },
  {
   "cell_type": "markdown",
   "id": "0f8bd828",
   "metadata": {},
   "source": [
    "- s = smooth\n",
    "- f = fibrous\n",
    "- k = silky\n",
    "- y = scaly"
   ]
  },
  {
   "cell_type": "markdown",
   "id": "3d99d53c",
   "metadata": {},
   "source": [
    "It seems most stalk surfaces are smooth or silky above the ring."
   ]
  },
  {
   "cell_type": "code",
   "execution_count": 26,
   "id": "883d305a",
   "metadata": {
    "scrolled": false
   },
   "outputs": [
    {
     "data": {
      "image/png": "[encoded data removed]",
      "text/plain": [
       "<Figure size 640x480 with 1 Axes>"
      ]
     },
     "metadata": {},
     "output_type": "display_data"
    }
   ],
   "source": [
    "sns.countplot(data = mushrooms, y = 'stalk_surface_above_ring');"
   ]
  },
  {
   "cell_type": "markdown",
   "id": "8eadee6f",
   "metadata": {},
   "source": [
    "### Stalk surface below ring"
   ]
  },
  {
   "cell_type": "markdown",
   "id": "6276a7e6",
   "metadata": {},
   "source": [
    "- s = smooth \n",
    "- f = fibrous\n",
    "- y = scaly\n",
    "- k = silky"
   ]
  },
  {
   "cell_type": "markdown",
   "id": "573e3389",
   "metadata": {},
   "source": [
    "Like with above the ring, most mushrooms stalk surfaces below the ring are smooth or silky."
   ]
  },
  {
   "cell_type": "code",
   "execution_count": 27,
   "id": "af7fc3a7",
   "metadata": {},
   "outputs": [
    {
     "data": {
      "image/png": "[encoded data removed]",
      "text/plain": [
       "<Figure size 640x480 with 1 Axes>"
      ]
     },
     "metadata": {},
     "output_type": "display_data"
    }
   ],
   "source": [
    "sns.countplot(data = mushrooms, y = 'stalk_surface_below_ring');"
   ]
  },
  {
   "cell_type": "markdown",
   "id": "4a82b448",
   "metadata": {},
   "source": [
    "### Stalk color above ring"
   ]
  },
  {
   "cell_type": "markdown",
   "id": "fd2f1926",
   "metadata": {},
   "source": [
    "- w = white\n",
    "- g = gray\n",
    "- p = pink\n",
    "- n = brown\n",
    "- b = buff \n",
    "- e = red\n",
    "- o = orange\n",
    "- c = cinnamon\n",
    "- y = yellow"
   ]
  },
  {
   "cell_type": "markdown",
   "id": "e914239c",
   "metadata": {},
   "source": [
    "The majority of mushrooms have a white or pink stock above the ring."
   ]
  },
  {
   "cell_type": "code",
   "execution_count": 28,
   "id": "b378ab9b",
   "metadata": {},
   "outputs": [
    {
     "data": {
      "image/png": "[encoded data removed]",
      "text/plain": [
       "<Figure size 640x480 with 1 Axes>"
      ]
     },
     "metadata": {},
     "output_type": "display_data"
    }
   ],
   "source": [
    "sns.countplot(data = mushrooms, y = 'stalk_color_above_ring');"
   ]
  },
  {
   "cell_type": "markdown",
   "id": "cee286d9",
   "metadata": {},
   "source": [
    "### Stalk color below ring"
   ]
  },
  {
   "cell_type": "markdown",
   "id": "aed9673b",
   "metadata": {},
   "source": [
    "- w = white\n",
    "- p = pink\n",
    "- g = gray \n",
    "- b = buff\n",
    "- n = brown\n",
    "- e = red\n",
    "- y = yellow\n",
    "- o = orange\n",
    "- c = cinnamon"
   ]
  },
  {
   "cell_type": "markdown",
   "id": "60ad120b",
   "metadata": {},
   "source": [
    "The same with above the ring, the most common stalk color below the ring is white and pink."
   ]
  },
  {
   "cell_type": "code",
   "execution_count": 29,
   "id": "8b3a08b9",
   "metadata": {},
   "outputs": [
    {
     "data": {
      "image/png": "[encoded data removed]",
      "text/plain": [
       "<Figure size 640x480 with 1 Axes>"
      ]
     },
     "metadata": {},
     "output_type": "display_data"
    }
   ],
   "source": [
    "sns.countplot(data = mushrooms, y = 'stalk_color_below_ring');"
   ]
  },
  {
   "cell_type": "markdown",
   "id": "9fec748e",
   "metadata": {},
   "source": [
    "### Veil type"
   ]
  },
  {
   "cell_type": "markdown",
   "id": "b71fc114",
   "metadata": {},
   "source": [
    "- p = partial"
   ]
  },
  {
   "cell_type": "markdown",
   "id": "24851af0",
   "metadata": {},
   "source": [
    "There are two veil types: partial and universal. All of the mushrooms in this dataset have a partial veil type."
   ]
  },
  {
   "cell_type": "code",
   "execution_count": 30,
   "id": "43f48599",
   "metadata": {},
   "outputs": [
    {
     "data": {
      "image/png": "[encoded data removed]",
      "text/plain": [
       "<Figure size 640x480 with 1 Axes>"
      ]
     },
     "metadata": {},
     "output_type": "display_data"
    }
   ],
   "source": [
    "sns.countplot(data = mushrooms, y = 'veil_type');"
   ]
  },
  {
   "cell_type": "markdown",
   "id": "499a8baf",
   "metadata": {},
   "source": [
    "### Veil color"
   ]
  },
  {
   "cell_type": "markdown",
   "id": "50e0f70c",
   "metadata": {},
   "source": [
    "- w = white\n",
    "- n = brown\n",
    "- o = orange\n",
    "- y = yellow"
   ]
  },
  {
   "cell_type": "markdown",
   "id": "7da7fdb9",
   "metadata": {},
   "source": [
    "The most common veil color is white."
   ]
  },
  {
   "cell_type": "code",
   "execution_count": 31,
   "id": "ae96bd9e",
   "metadata": {},
   "outputs": [
    {
     "data": {
      "image/png": "[encoded data removed]",
      "text/plain": [
       "<Figure size 640x480 with 1 Axes>"
      ]
     },
     "metadata": {},
     "output_type": "display_data"
    }
   ],
   "source": [
    "sns.countplot(data = mushrooms, y = 'veil_color');"
   ]
  },
  {
   "cell_type": "markdown",
   "id": "bb0a92b1",
   "metadata": {},
   "source": [
    "### Ring number"
   ]
  },
  {
   "cell_type": "markdown",
   "id": "1a04c16e",
   "metadata": {},
   "source": [
    "- o = one\n",
    "- t = two\n",
    "- n = none"
   ]
  },
  {
   "cell_type": "markdown",
   "id": "a83b92df",
   "metadata": {},
   "source": [
    "It appears most mushrooms only have one ring."
   ]
  },
  {
   "cell_type": "code",
   "execution_count": 32,
   "id": "e9b6f106",
   "metadata": {},
   "outputs": [
    {
     "data": {
      "image/png": "[encoded data removed]",
      "text/plain": [
       "<Figure size 640x480 with 1 Axes>"
      ]
     },
     "metadata": {},
     "output_type": "display_data"
    }
   ],
   "source": [
    "sns.countplot(data = mushrooms, y = 'ring_number');"
   ]
  },
  {
   "cell_type": "markdown",
   "id": "43a646e9",
   "metadata": {},
   "source": [
    "### Ring type"
   ]
  },
  {
   "cell_type": "markdown",
   "id": "bc126015",
   "metadata": {},
   "source": [
    "- p = pendant\n",
    "- e = evanescent\n",
    "- l = large\n",
    "- f = flaring\n",
    "- n = none"
   ]
  },
  {
   "cell_type": "markdown",
   "id": "0c31a646",
   "metadata": {},
   "source": [
    "The most common ring types of mushrooms in this dataset are pendant, evanescent and large."
   ]
  },
  {
   "cell_type": "code",
   "execution_count": 33,
   "id": "7de74b19",
   "metadata": {},
   "outputs": [
    {
     "data": {
      "image/png": "[encoded data removed]",
      "text/plain": [
       "<Figure size 640x480 with 1 Axes>"
      ]
     },
     "metadata": {},
     "output_type": "display_data"
    }
   ],
   "source": [
    "sns.countplot(data = mushrooms, y = 'ring_type');"
   ]
  },
  {
   "cell_type": "markdown",
   "id": "2d0f8bd4",
   "metadata": {},
   "source": [
    "### Spore print color"
   ]
  },
  {
   "cell_type": "markdown",
   "id": "582ce2b8",
   "metadata": {},
   "source": [
    "- n = brown\n",
    "- k = black\n",
    "- u = purple\n",
    "- h = chocolate\n",
    "- w = white\n",
    "- r = green\n",
    "- o = orange\n",
    "- y = yellow \n",
    "- b = buff"
   ]
  },
  {
   "cell_type": "markdown",
   "id": "8e05a809",
   "metadata": {},
   "source": [
    "It appears the most common spore print colors are white, brown, black, and chocolate."
   ]
  },
  {
   "cell_type": "code",
   "execution_count": 34,
   "id": "3bd19322",
   "metadata": {
    "scrolled": false
   },
   "outputs": [
    {
     "data": {
      "image/png": "[encoded data removed]",
      "text/plain": [
       "<Figure size 640x480 with 1 Axes>"
      ]
     },
     "metadata": {},
     "output_type": "display_data"
    }
   ],
   "source": [
    "sns.countplot(data = mushrooms, y = 'spore_print_color');"
   ]
  },
  {
   "cell_type": "markdown",
   "id": "c86f03a8",
   "metadata": {},
   "source": [
    "### Population"
   ]
  },
  {
   "cell_type": "markdown",
   "id": "503394cb",
   "metadata": {},
   "source": [
    "- n = numerous\n",
    "- s = scattered\n",
    "- a = abundant\n",
    "- v = several\n",
    "- y = solitary\n",
    "- c = clustered"
   ]
  },
  {
   "cell_type": "markdown",
   "id": "8a9e3359",
   "metadata": {},
   "source": [
    "A graph showing the population of mushrooms in the dataset in certain areas. It appears several is the most common."
   ]
  },
  {
   "cell_type": "code",
   "execution_count": 35,
   "id": "2858c5cf",
   "metadata": {},
   "outputs": [
    {
     "data": {
      "image/png": "[encoded data removed]",
      "text/plain": [
       "<Figure size 640x480 with 1 Axes>"
      ]
     },
     "metadata": {},
     "output_type": "display_data"
    }
   ],
   "source": [
    "sns.countplot(data = mushrooms, y = 'population');"
   ]
  },
  {
   "cell_type": "markdown",
   "id": "d31c409c",
   "metadata": {},
   "source": [
    "### Habitat"
   ]
  },
  {
   "cell_type": "markdown",
   "id": "492c8acc",
   "metadata": {},
   "source": [
    "- g = grasses\n",
    "- m = meadows\n",
    "- u = urban\n",
    "- d = woods\n",
    "- p = paths \n",
    "- w = waste\n",
    "- l = leaves"
   ]
  },
  {
   "cell_type": "markdown",
   "id": "c3b319a7",
   "metadata": {},
   "source": [
    "A graph showing the different habitats the mushrooms are found. It appears the most common habitats are the woods and grasses."
   ]
  },
  {
   "cell_type": "code",
   "execution_count": 36,
   "id": "22e95c16",
   "metadata": {},
   "outputs": [
    {
     "data": {
      "image/png": "[encoded data removed]",
      "text/plain": [
       "<Figure size 640x480 with 1 Axes>"
      ]
     },
     "metadata": {},
     "output_type": "display_data"
    }
   ],
   "source": [
    "sns.countplot(data = mushrooms, y = 'habitat');"
   ]
  },
  {
   "cell_type": "markdown",
   "id": "0aa1f5a0",
   "metadata": {},
   "source": [
    "## Data preparation"
   ]
  },
  {
   "cell_type": "markdown",
   "id": "f6378740",
   "metadata": {},
   "source": [
    "Here the data will be checked for any more missing data. It was previously discovered that there was missing data in the 'stalk root' column. There is no way to know what the missing data could be. Removing the column as a feature would be the best way to deal with the missing data."
   ]
  },
  {
   "cell_type": "code",
   "execution_count": 37,
   "id": "7a62be4f",
   "metadata": {
    "scrolled": false
   },
   "outputs": [
    {
     "data": {
      "text/html": [
       "<div>\n",
       "<style scoped>\n",
       "    .dataframe tbody tr th:only-of-type {\n",
       "        vertical-align: middle;\n",
       "    }\n",
       "\n",
       "    .dataframe tbody tr th {\n",
       "        vertical-align: top;\n",
       "    }\n",
       "\n",
       "    .dataframe thead th {\n",
       "        text-align: right;\n",
       "    }\n",
       "</style>\n",
       "<table border=\"1\" class=\"dataframe\">\n",
       "  <thead>\n",
       "    <tr style=\"text-align: right;\">\n",
       "      <th></th>\n",
       "      <th>poisonous</th>\n",
       "      <th>cap_shape</th>\n",
       "      <th>cap_surface</th>\n",
       "      <th>cap_color</th>\n",
       "      <th>bruises</th>\n",
       "      <th>odor</th>\n",
       "      <th>gill_attachment</th>\n",
       "      <th>gill_spacing</th>\n",
       "      <th>gill_size</th>\n",
       "      <th>gill_color</th>\n",
       "      <th>...</th>\n",
       "      <th>stalk_surface_below_ring</th>\n",
       "      <th>stalk_color_above_ring</th>\n",
       "      <th>stalk_color_below_ring</th>\n",
       "      <th>veil_type</th>\n",
       "      <th>veil_color</th>\n",
       "      <th>ring_number</th>\n",
       "      <th>ring_type</th>\n",
       "      <th>spore_print_color</th>\n",
       "      <th>population</th>\n",
       "      <th>habitat</th>\n",
       "    </tr>\n",
       "  </thead>\n",
       "  <tbody>\n",
       "  </tbody>\n",
       "</table>\n",
       "<p>0 rows × 23 columns</p>\n",
       "</div>"
      ],
      "text/plain": [
       "Empty DataFrame\n",
       "Columns: [poisonous, cap_shape, cap_surface, cap_color, bruises, odor, gill_attachment, gill_spacing, gill_size, gill_color, stalk_shape, stalk_root, stalk_surface_above_ring, stalk_surface_below_ring, stalk_color_above_ring, stalk_color_below_ring, veil_type, veil_color, ring_number, ring_type, spore_print_color, population, habitat]\n",
       "Index: []\n",
       "\n",
       "[0 rows x 23 columns]"
      ]
     },
     "execution_count": 37,
     "metadata": {},
     "output_type": "execute_result"
    }
   ],
   "source": [
    "mushrooms[mushrooms.isnull().any(axis = 1)]"
   ]
  },
  {
   "cell_type": "code",
   "execution_count": 38,
   "id": "0bc2b1bd",
   "metadata": {},
   "outputs": [],
   "source": [
    " mushrooms = mushrooms.drop('stalk_root', axis = 1)"
   ]
  },
  {
   "cell_type": "markdown",
   "id": "8d4ee94c",
   "metadata": {},
   "source": [
    "Next step is to transform the data for the model. first is to turn the labels in strings so they can be read in a dictionary to give them binary indentifiers. 'e' becomes 0 and 'p' becomes 1."
   ]
  },
  {
   "cell_type": "code",
   "execution_count": 55,
   "id": "5e158a4c",
   "metadata": {},
   "outputs": [
    {
     "data": {
      "text/html": [
       "<div>\n",
       "<style scoped>\n",
       "    .dataframe tbody tr th:only-of-type {\n",
       "        vertical-align: middle;\n",
       "    }\n",
       "\n",
       "    .dataframe tbody tr th {\n",
       "        vertical-align: top;\n",
       "    }\n",
       "\n",
       "    .dataframe thead th {\n",
       "        text-align: right;\n",
       "    }\n",
       "</style>\n",
       "<table border=\"1\" class=\"dataframe\">\n",
       "  <thead>\n",
       "    <tr style=\"text-align: right;\">\n",
       "      <th></th>\n",
       "      <th>poisonous</th>\n",
       "    </tr>\n",
       "  </thead>\n",
       "  <tbody>\n",
       "    <tr>\n",
       "      <th>0</th>\n",
       "      <td>0</td>\n",
       "    </tr>\n",
       "    <tr>\n",
       "      <th>1</th>\n",
       "      <td>0</td>\n",
       "    </tr>\n",
       "    <tr>\n",
       "      <th>2</th>\n",
       "      <td>1</td>\n",
       "    </tr>\n",
       "    <tr>\n",
       "      <th>3</th>\n",
       "      <td>0</td>\n",
       "    </tr>\n",
       "    <tr>\n",
       "      <th>4</th>\n",
       "      <td>0</td>\n",
       "    </tr>\n",
       "    <tr>\n",
       "      <th>...</th>\n",
       "      <td>...</td>\n",
       "    </tr>\n",
       "    <tr>\n",
       "      <th>8118</th>\n",
       "      <td>0</td>\n",
       "    </tr>\n",
       "    <tr>\n",
       "      <th>8119</th>\n",
       "      <td>0</td>\n",
       "    </tr>\n",
       "    <tr>\n",
       "      <th>8120</th>\n",
       "      <td>0</td>\n",
       "    </tr>\n",
       "    <tr>\n",
       "      <th>8121</th>\n",
       "      <td>1</td>\n",
       "    </tr>\n",
       "    <tr>\n",
       "      <th>8122</th>\n",
       "      <td>0</td>\n",
       "    </tr>\n",
       "  </tbody>\n",
       "</table>\n",
       "<p>8123 rows × 1 columns</p>\n",
       "</div>"
      ],
      "text/plain": [
       "      poisonous\n",
       "0             0\n",
       "1             0\n",
       "2             1\n",
       "3             0\n",
       "4             0\n",
       "...         ...\n",
       "8118          0\n",
       "8119          0\n",
       "8120          0\n",
       "8121          1\n",
       "8122          0\n",
       "\n",
       "[8123 rows x 1 columns]"
      ]
     },
     "execution_count": 55,
     "metadata": {},
     "output_type": "execute_result"
    }
   ],
   "source": [
    "mushrooms.poisonous = mushrooms.poisonous.astype('string')\n",
    "binary_dict = {'p':1, 'e':0}\n",
    "mushrooms.poisonous = mushrooms.poisonous.map(binary_dict)\n",
    "y"
   ]
  },
  {
   "cell_type": "markdown",
   "id": "6f04b04a",
   "metadata": {},
   "source": [
    "The features and labels are separated."
   ]
  },
  {
   "cell_type": "code",
   "execution_count": 40,
   "id": "b2676385",
   "metadata": {},
   "outputs": [],
   "source": [
    "x = mushrooms.iloc[:, 1:]\n",
    "y = mushrooms.iloc[:, 0:1]"
   ]
  },
  {
   "cell_type": "markdown",
   "id": "29d263e6",
   "metadata": {},
   "source": [
    "The features are given binary indentifiers using dummy variables."
   ]
  },
  {
   "cell_type": "code",
   "execution_count": 56,
   "id": "a7b09b34",
   "metadata": {},
   "outputs": [
    {
     "data": {
      "text/html": [
       "<div>\n",
       "<style scoped>\n",
       "    .dataframe tbody tr th:only-of-type {\n",
       "        vertical-align: middle;\n",
       "    }\n",
       "\n",
       "    .dataframe tbody tr th {\n",
       "        vertical-align: top;\n",
       "    }\n",
       "\n",
       "    .dataframe thead th {\n",
       "        text-align: right;\n",
       "    }\n",
       "</style>\n",
       "<table border=\"1\" class=\"dataframe\">\n",
       "  <thead>\n",
       "    <tr style=\"text-align: right;\">\n",
       "      <th></th>\n",
       "      <th>cap_shape_b_0</th>\n",
       "      <th>cap_shape_b_1</th>\n",
       "      <th>cap_shape_c_0</th>\n",
       "      <th>cap_shape_c_1</th>\n",
       "      <th>cap_shape_f_0</th>\n",
       "      <th>cap_shape_f_1</th>\n",
       "      <th>cap_shape_k_0</th>\n",
       "      <th>cap_shape_k_1</th>\n",
       "      <th>cap_shape_s_0</th>\n",
       "      <th>cap_shape_s_1</th>\n",
       "      <th>...</th>\n",
       "      <th>habitat_l_0</th>\n",
       "      <th>habitat_l_1</th>\n",
       "      <th>habitat_m_0</th>\n",
       "      <th>habitat_m_1</th>\n",
       "      <th>habitat_p_0</th>\n",
       "      <th>habitat_p_1</th>\n",
       "      <th>habitat_u_0</th>\n",
       "      <th>habitat_u_1</th>\n",
       "      <th>habitat_w_0</th>\n",
       "      <th>habitat_w_1</th>\n",
       "    </tr>\n",
       "  </thead>\n",
       "  <tbody>\n",
       "    <tr>\n",
       "      <th>0</th>\n",
       "      <td>1</td>\n",
       "      <td>0</td>\n",
       "      <td>1</td>\n",
       "      <td>0</td>\n",
       "      <td>1</td>\n",
       "      <td>0</td>\n",
       "      <td>1</td>\n",
       "      <td>0</td>\n",
       "      <td>1</td>\n",
       "      <td>0</td>\n",
       "      <td>...</td>\n",
       "      <td>1</td>\n",
       "      <td>0</td>\n",
       "      <td>1</td>\n",
       "      <td>0</td>\n",
       "      <td>1</td>\n",
       "      <td>0</td>\n",
       "      <td>1</td>\n",
       "      <td>0</td>\n",
       "      <td>1</td>\n",
       "      <td>0</td>\n",
       "    </tr>\n",
       "    <tr>\n",
       "      <th>1</th>\n",
       "      <td>0</td>\n",
       "      <td>1</td>\n",
       "      <td>1</td>\n",
       "      <td>0</td>\n",
       "      <td>1</td>\n",
       "      <td>0</td>\n",
       "      <td>1</td>\n",
       "      <td>0</td>\n",
       "      <td>1</td>\n",
       "      <td>0</td>\n",
       "      <td>...</td>\n",
       "      <td>1</td>\n",
       "      <td>0</td>\n",
       "      <td>0</td>\n",
       "      <td>1</td>\n",
       "      <td>1</td>\n",
       "      <td>0</td>\n",
       "      <td>1</td>\n",
       "      <td>0</td>\n",
       "      <td>1</td>\n",
       "      <td>0</td>\n",
       "    </tr>\n",
       "    <tr>\n",
       "      <th>2</th>\n",
       "      <td>1</td>\n",
       "      <td>0</td>\n",
       "      <td>1</td>\n",
       "      <td>0</td>\n",
       "      <td>1</td>\n",
       "      <td>0</td>\n",
       "      <td>1</td>\n",
       "      <td>0</td>\n",
       "      <td>1</td>\n",
       "      <td>0</td>\n",
       "      <td>...</td>\n",
       "      <td>1</td>\n",
       "      <td>0</td>\n",
       "      <td>1</td>\n",
       "      <td>0</td>\n",
       "      <td>1</td>\n",
       "      <td>0</td>\n",
       "      <td>0</td>\n",
       "      <td>1</td>\n",
       "      <td>1</td>\n",
       "      <td>0</td>\n",
       "    </tr>\n",
       "    <tr>\n",
       "      <th>3</th>\n",
       "      <td>1</td>\n",
       "      <td>0</td>\n",
       "      <td>1</td>\n",
       "      <td>0</td>\n",
       "      <td>1</td>\n",
       "      <td>0</td>\n",
       "      <td>1</td>\n",
       "      <td>0</td>\n",
       "      <td>1</td>\n",
       "      <td>0</td>\n",
       "      <td>...</td>\n",
       "      <td>1</td>\n",
       "      <td>0</td>\n",
       "      <td>1</td>\n",
       "      <td>0</td>\n",
       "      <td>1</td>\n",
       "      <td>0</td>\n",
       "      <td>1</td>\n",
       "      <td>0</td>\n",
       "      <td>1</td>\n",
       "      <td>0</td>\n",
       "    </tr>\n",
       "    <tr>\n",
       "      <th>4</th>\n",
       "      <td>1</td>\n",
       "      <td>0</td>\n",
       "      <td>1</td>\n",
       "      <td>0</td>\n",
       "      <td>1</td>\n",
       "      <td>0</td>\n",
       "      <td>1</td>\n",
       "      <td>0</td>\n",
       "      <td>1</td>\n",
       "      <td>0</td>\n",
       "      <td>...</td>\n",
       "      <td>1</td>\n",
       "      <td>0</td>\n",
       "      <td>1</td>\n",
       "      <td>0</td>\n",
       "      <td>1</td>\n",
       "      <td>0</td>\n",
       "      <td>1</td>\n",
       "      <td>0</td>\n",
       "      <td>1</td>\n",
       "      <td>0</td>\n",
       "    </tr>\n",
       "    <tr>\n",
       "      <th>...</th>\n",
       "      <td>...</td>\n",
       "      <td>...</td>\n",
       "      <td>...</td>\n",
       "      <td>...</td>\n",
       "      <td>...</td>\n",
       "      <td>...</td>\n",
       "      <td>...</td>\n",
       "      <td>...</td>\n",
       "      <td>...</td>\n",
       "      <td>...</td>\n",
       "      <td>...</td>\n",
       "      <td>...</td>\n",
       "      <td>...</td>\n",
       "      <td>...</td>\n",
       "      <td>...</td>\n",
       "      <td>...</td>\n",
       "      <td>...</td>\n",
       "      <td>...</td>\n",
       "      <td>...</td>\n",
       "      <td>...</td>\n",
       "      <td>...</td>\n",
       "    </tr>\n",
       "    <tr>\n",
       "      <th>8118</th>\n",
       "      <td>1</td>\n",
       "      <td>0</td>\n",
       "      <td>1</td>\n",
       "      <td>0</td>\n",
       "      <td>1</td>\n",
       "      <td>0</td>\n",
       "      <td>0</td>\n",
       "      <td>1</td>\n",
       "      <td>1</td>\n",
       "      <td>0</td>\n",
       "      <td>...</td>\n",
       "      <td>0</td>\n",
       "      <td>1</td>\n",
       "      <td>1</td>\n",
       "      <td>0</td>\n",
       "      <td>1</td>\n",
       "      <td>0</td>\n",
       "      <td>1</td>\n",
       "      <td>0</td>\n",
       "      <td>1</td>\n",
       "      <td>0</td>\n",
       "    </tr>\n",
       "    <tr>\n",
       "      <th>8119</th>\n",
       "      <td>1</td>\n",
       "      <td>0</td>\n",
       "      <td>1</td>\n",
       "      <td>0</td>\n",
       "      <td>1</td>\n",
       "      <td>0</td>\n",
       "      <td>1</td>\n",
       "      <td>0</td>\n",
       "      <td>1</td>\n",
       "      <td>0</td>\n",
       "      <td>...</td>\n",
       "      <td>0</td>\n",
       "      <td>1</td>\n",
       "      <td>1</td>\n",
       "      <td>0</td>\n",
       "      <td>1</td>\n",
       "      <td>0</td>\n",
       "      <td>1</td>\n",
       "      <td>0</td>\n",
       "      <td>1</td>\n",
       "      <td>0</td>\n",
       "    </tr>\n",
       "    <tr>\n",
       "      <th>8120</th>\n",
       "      <td>1</td>\n",
       "      <td>0</td>\n",
       "      <td>1</td>\n",
       "      <td>0</td>\n",
       "      <td>0</td>\n",
       "      <td>1</td>\n",
       "      <td>1</td>\n",
       "      <td>0</td>\n",
       "      <td>1</td>\n",
       "      <td>0</td>\n",
       "      <td>...</td>\n",
       "      <td>0</td>\n",
       "      <td>1</td>\n",
       "      <td>1</td>\n",
       "      <td>0</td>\n",
       "      <td>1</td>\n",
       "      <td>0</td>\n",
       "      <td>1</td>\n",
       "      <td>0</td>\n",
       "      <td>1</td>\n",
       "      <td>0</td>\n",
       "    </tr>\n",
       "    <tr>\n",
       "      <th>8121</th>\n",
       "      <td>1</td>\n",
       "      <td>0</td>\n",
       "      <td>1</td>\n",
       "      <td>0</td>\n",
       "      <td>1</td>\n",
       "      <td>0</td>\n",
       "      <td>0</td>\n",
       "      <td>1</td>\n",
       "      <td>1</td>\n",
       "      <td>0</td>\n",
       "      <td>...</td>\n",
       "      <td>0</td>\n",
       "      <td>1</td>\n",
       "      <td>1</td>\n",
       "      <td>0</td>\n",
       "      <td>1</td>\n",
       "      <td>0</td>\n",
       "      <td>1</td>\n",
       "      <td>0</td>\n",
       "      <td>1</td>\n",
       "      <td>0</td>\n",
       "    </tr>\n",
       "    <tr>\n",
       "      <th>8122</th>\n",
       "      <td>1</td>\n",
       "      <td>0</td>\n",
       "      <td>1</td>\n",
       "      <td>0</td>\n",
       "      <td>1</td>\n",
       "      <td>0</td>\n",
       "      <td>1</td>\n",
       "      <td>0</td>\n",
       "      <td>1</td>\n",
       "      <td>0</td>\n",
       "      <td>...</td>\n",
       "      <td>0</td>\n",
       "      <td>1</td>\n",
       "      <td>1</td>\n",
       "      <td>0</td>\n",
       "      <td>1</td>\n",
       "      <td>0</td>\n",
       "      <td>1</td>\n",
       "      <td>0</td>\n",
       "      <td>1</td>\n",
       "      <td>0</td>\n",
       "    </tr>\n",
       "  </tbody>\n",
       "</table>\n",
       "<p>8123 rows × 223 columns</p>\n",
       "</div>"
      ],
      "text/plain": [
       "      cap_shape_b_0  cap_shape_b_1  cap_shape_c_0  cap_shape_c_1  \\\n",
       "0                 1              0              1              0   \n",
       "1                 0              1              1              0   \n",
       "2                 1              0              1              0   \n",
       "3                 1              0              1              0   \n",
       "4                 1              0              1              0   \n",
       "...             ...            ...            ...            ...   \n",
       "8118              1              0              1              0   \n",
       "8119              1              0              1              0   \n",
       "8120              1              0              1              0   \n",
       "8121              1              0              1              0   \n",
       "8122              1              0              1              0   \n",
       "\n",
       "      cap_shape_f_0  cap_shape_f_1  cap_shape_k_0  cap_shape_k_1  \\\n",
       "0                 1              0              1              0   \n",
       "1                 1              0              1              0   \n",
       "2                 1              0              1              0   \n",
       "3                 1              0              1              0   \n",
       "4                 1              0              1              0   \n",
       "...             ...            ...            ...            ...   \n",
       "8118              1              0              0              1   \n",
       "8119              1              0              1              0   \n",
       "8120              0              1              1              0   \n",
       "8121              1              0              0              1   \n",
       "8122              1              0              1              0   \n",
       "\n",
       "      cap_shape_s_0  cap_shape_s_1  ...  habitat_l_0  habitat_l_1  \\\n",
       "0                 1              0  ...            1            0   \n",
       "1                 1              0  ...            1            0   \n",
       "2                 1              0  ...            1            0   \n",
       "3                 1              0  ...            1            0   \n",
       "4                 1              0  ...            1            0   \n",
       "...             ...            ...  ...          ...          ...   \n",
       "8118              1              0  ...            0            1   \n",
       "8119              1              0  ...            0            1   \n",
       "8120              1              0  ...            0            1   \n",
       "8121              1              0  ...            0            1   \n",
       "8122              1              0  ...            0            1   \n",
       "\n",
       "      habitat_m_0  habitat_m_1  habitat_p_0  habitat_p_1  habitat_u_0  \\\n",
       "0               1            0            1            0            1   \n",
       "1               0            1            1            0            1   \n",
       "2               1            0            1            0            0   \n",
       "3               1            0            1            0            1   \n",
       "4               1            0            1            0            1   \n",
       "...           ...          ...          ...          ...          ...   \n",
       "8118            1            0            1            0            1   \n",
       "8119            1            0            1            0            1   \n",
       "8120            1            0            1            0            1   \n",
       "8121            1            0            1            0            1   \n",
       "8122            1            0            1            0            1   \n",
       "\n",
       "      habitat_u_1  habitat_w_0  habitat_w_1  \n",
       "0               0            1            0  \n",
       "1               0            1            0  \n",
       "2               1            1            0  \n",
       "3               0            1            0  \n",
       "4               0            1            0  \n",
       "...           ...          ...          ...  \n",
       "8118            0            1            0  \n",
       "8119            0            1            0  \n",
       "8120            0            1            0  \n",
       "8121            0            1            0  \n",
       "8122            0            1            0  \n",
       "\n",
       "[8123 rows x 223 columns]"
      ]
     },
     "execution_count": 56,
     "metadata": {},
     "output_type": "execute_result"
    }
   ],
   "source": [
    "for column in x.columns:\n",
    "    x = pd.get_dummies(x, columns = [column], prefix = [column])\n",
    "x"
   ]
  },
  {
   "cell_type": "markdown",
   "id": "0e44240b",
   "metadata": {},
   "source": [
    "After the features and labels have been transformed, they are ready to be split into training and test sets."
   ]
  },
  {
   "cell_type": "code",
   "execution_count": 60,
   "id": "02cb69b0",
   "metadata": {},
   "outputs": [],
   "source": [
    "from sklearn.model_selection import train_test_split\n",
    "\n",
    "x_train, x_test, y_train, y_test = train_test_split(x, y, test_size = .33, random_state = 42)\n",
    "y_train = y_train.to_numpy().ravel()\n",
    "y_test = y_test.to_numpy().ravel()"
   ]
  },
  {
   "cell_type": "markdown",
   "id": "a19e0bee",
   "metadata": {},
   "source": [
    "## Predictions"
   ]
  },
  {
   "cell_type": "markdown",
   "id": "deb3ed76",
   "metadata": {},
   "source": [
    "The support vector classififer model is loaded in as well as the classification report and confuison matrix that will be used to evaluate and visualize the models preformance. "
   ]
  },
  {
   "cell_type": "code",
   "execution_count": 61,
   "id": "fe2ae883",
   "metadata": {
    "scrolled": false
   },
   "outputs": [],
   "source": [
    "from sklearn.svm import SVC\n",
    "from sklearn.metrics import classification_report, confusion_matrix\n",
    "model = SVC().fit(x_train, y_train)"
   ]
  },
  {
   "cell_type": "markdown",
   "id": "27004264",
   "metadata": {},
   "source": [
    "### Evaluation"
   ]
  },
  {
   "cell_type": "markdown",
   "id": "fb0c391e",
   "metadata": {},
   "source": [
    "Here the model makes a prediction on the test data. The classification report scores the actual values vs the predictions. The metrics the reports shows are:\n",
    "\n",
    "- **Accuracy** - True Positives and True Negatives divided by total values\n",
    "- **Precision** - True Positives divided by True Positives and False Negatives\n",
    "- **Recall** - True Positives divided by the True Positives and False Positives\n",
    "- **F1-score** - A blended score of precision and recall\n",
    "- **Macro Avg** - The unweighted mean value of precision and recall\n",
    "- **Weighted Avg** - The weighted mean value of preision and recall by the support values for each class\n",
    "- **Support** - The number of observations in class to predict\n",
    "\n",
    "The test data shows a score of 100%!"
   ]
  },
  {
   "cell_type": "code",
   "execution_count": 62,
   "id": "e4a744aa",
   "metadata": {},
   "outputs": [
    {
     "name": "stdout",
     "output_type": "stream",
     "text": [
      "              precision    recall  f1-score   support\n",
      "\n",
      "           0       1.00      1.00      1.00      1392\n",
      "           1       1.00      1.00      1.00      1289\n",
      "\n",
      "    accuracy                           1.00      2681\n",
      "   macro avg       1.00      1.00      1.00      2681\n",
      "weighted avg       1.00      1.00      1.00      2681\n",
      "\n"
     ]
    }
   ],
   "source": [
    "y_pred = model.predict(x_test)\n",
    "\n",
    "print(classification_report(y_test, y_pred))"
   ]
  },
  {
   "cell_type": "markdown",
   "id": "9f6a034a",
   "metadata": {},
   "source": [
    "A heat map is made of the confusion matrix of the actual values vs the predicted values. \n",
    "\n",
    "The map shows us that there are 1289 correctly predicted poisonous mushrooms, or the True Positives, and 1392 correctly predicted edible mushrooms, or True Negatives. The zeros on the map represent the False Positives and the False Negatives, meaning the model correctly predicted all of the mushrooms in the testset! "
   ]
  },
  {
   "cell_type": "code",
   "execution_count": 63,
   "id": "e5c6f4eb",
   "metadata": {},
   "outputs": [
    {
     "data": {
      "image/png": "[encoded data removed]",
      "text/plain": [
       "<Figure size 640x480 with 2 Axes>"
      ]
     },
     "metadata": {},
     "output_type": "display_data"
    }
   ],
   "source": [
    "cm = confusion_matrix(y_test, y_pred)\n",
    "ax = plt.subplot()\n",
    "sns.heatmap(cm, annot = True, ax = ax, fmt = \"d\");\n",
    "\n",
    "ax.set_xlabel('Predicted')\n",
    "ax.set_ylabel('Actual')\n",
    "ax.xaxis.set_ticklabels(['Edible', 'Poisonous']);\n",
    "ax.yaxis.set_ticklabels(['Edible', 'Poisonous']);"
   ]
  },
  {
   "cell_type": "markdown",
   "id": "75f35868",
   "metadata": {},
   "source": [
    "# Conclusion"
   ]
  },
  {
   "cell_type": "markdown",
   "id": "6b8b53b8",
   "metadata": {},
   "source": [
    "In this project, machine learing was used to predicted wheter a mushroom is edible or poisonous based on the mushrooms physical characteristics. There is no simple rule for determining if a mushroom is edible or not and without pior knowledge of mushrooms, it would be pretty difficult to make that determination.\n",
    "\n",
    "Fortunately, a model was able to determine if a mushroom was edible or poisonous with 100% accuracy!\n",
    "\n",
    "Next steps would be to determine if less features could be used to determine edibility with high accuracy. Also, to test and train the model on different types of mushrooms to make the model more powerful. "
   ]
  }
 ],
 "metadata": {
  "kernelspec": {
   "display_name": "Python 3 (ipykernel)",
   "language": "python",
   "name": "python3"
  },
  "language_info": {
   "codemirror_mode": {
    "name": "ipython",
    "version": 3
   },
   "file_extension": ".py",
   "mimetype": "text/x-python",
   "name": "python",
   "nbconvert_exporter": "python",
   "pygments_lexer": "ipython3",
   "version": "3.9.13"
  }
 },
 "nbformat": 4,
 "nbformat_minor": 5
}
